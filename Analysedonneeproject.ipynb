{
  "nbformat": 4,
  "nbformat_minor": 0,
  "metadata": {
    "colab": {
      "provenance": [],
      "authorship_tag": "ABX9TyMrZBSgsIDcZsQgvsMkjgrX",
      "include_colab_link": true
    },
    "kernelspec": {
      "name": "python3",
      "display_name": "Python 3"
    },
    "language_info": {
      "name": "python"
    }
  },
  "cells": [
    {
      "cell_type": "markdown",
      "metadata": {
        "id": "view-in-github",
        "colab_type": "text"
      },
      "source": [
        "<a href=\"https://colab.research.google.com/github/Motaha12/projetta/blob/main/Analysedonneeproject.ipynb\" target=\"_parent\"><img src=\"https://colab.research.google.com/assets/colab-badge.svg\" alt=\"Open In Colab\"/></a>"
      ]
    },
    {
      "cell_type": "code",
      "execution_count": 44,
      "metadata": {
        "id": "Pfl0cI_F-tPK"
      },
      "outputs": [],
      "source": [
        "import pandas as pd\n",
        "import numpy as np\n",
        "import matplotlib.pylab as plt\n"
      ]
    },
    {
      "cell_type": "markdown",
      "source": [
        "this db = pd.read_csv(url)= implemente des classes pour la lecture et l'ecriture des donnees et depend au format choisi .\n",
        "db : c' est pour l'affichage de la base de donnee . "
      ],
      "metadata": {
        "id": "0FjxudskMeSJ"
      }
    },
    {
      "cell_type": "code",
      "source": [
        "url = \"https://raw.githubusercontent.com/EMSIMa/ADD3IIR/main/Projet/Datasets/amazon.csv\"\n",
        "db = pd.read_csv(url)"
      ],
      "metadata": {
        "id": "u5yLemjnNV03"
      },
      "execution_count": 45,
      "outputs": []
    },
    {
      "cell_type": "code",
      "source": [
        "db"
      ],
      "metadata": {
        "colab": {
          "base_uri": "https://localhost:8080/",
          "height": 815
        },
        "id": "D5pMnJY0CY_r",
        "outputId": "6e46ced5-6f44-49fe-f620-374187db6d5b"
      },
      "execution_count": 46,
      "outputs": [
        {
          "output_type": "execute_result",
          "data": {
            "text/plain": [
              "     show_id     type                    title         director  \\\n",
              "0         s1    Movie      The Grand Seduction     Don McKellar   \n",
              "1         s2    Movie     Take Care Good Night     Girish Joshi   \n",
              "2         s3    Movie     Secrets of Deception      Josh Webber   \n",
              "3         s4    Movie       Pink: Staying True   Sonia Anderson   \n",
              "4         s5    Movie            Monster Maker     Giles Foster   \n",
              "...      ...      ...                      ...              ...   \n",
              "9663   s9664    Movie      Pride Of The Bowery  Joseph H. Lewis   \n",
              "9664   s9665  TV Show            Planet Patrol              NaN   \n",
              "9665   s9666    Movie                  Outpost     Steve Barker   \n",
              "9666   s9667  TV Show  Maradona: Blessed Dream              NaN   \n",
              "9667   s9668    Movie              Harry Brown    Daniel Barber   \n",
              "\n",
              "                                                   cast         country  \\\n",
              "0        Brendan Gleeson, Taylor Kitsch, Gordon Pinsent          Canada   \n",
              "1      Mahesh Manjrekar, Abhay Mahajan, Sachin Khedekar           India   \n",
              "2     Tom Sizemore, Lorenzo Lamas, Robert LaSardo, R...   United States   \n",
              "3     Interviews with: Pink, Adele, Beyoncé, Britney...   United States   \n",
              "4     Harry Dean Stanton, Kieran O'Brien, George Cos...  United Kingdom   \n",
              "...                                                 ...             ...   \n",
              "9663                           Leo Gorcey, Bobby Jordan             NaN   \n",
              "9664  DICK VOSBURGH, RONNIE STEVENS, LIBBY MORRIS, M...             NaN   \n",
              "9665  Ray Stevenson, Julian Wadham, Richard Brake, M...             NaN   \n",
              "9666  Esteban Recagno, Ezequiel Stremiz, Luciano Vit...             NaN   \n",
              "9667  Michael Caine, Emily Mortimer, Joseph Gilgun, ...             NaN   \n",
              "\n",
              "          date_added  release_year rating   duration                listed_in  \\\n",
              "0     March 30, 2021          2014    NaN    113 min            Comedy, Drama   \n",
              "1     March 30, 2021          2018    13+    110 min     Drama, International   \n",
              "2     March 30, 2021          2017    NaN     74 min  Action, Drama, Suspense   \n",
              "3     March 30, 2021          2014    NaN     69 min              Documentary   \n",
              "4     March 30, 2021          1989    NaN     45 min           Drama, Fantasy   \n",
              "...              ...           ...    ...        ...                      ...   \n",
              "9663             NaN          1940     7+     60 min                   Comedy   \n",
              "9664             NaN          2018    13+  4 Seasons                 TV Shows   \n",
              "9665             NaN          2008      R     90 min                   Action   \n",
              "9666             NaN          2021  TV-MA   1 Season            Drama, Sports   \n",
              "9667             NaN          2010      R    103 min  Action, Drama, Suspense   \n",
              "\n",
              "                                            description  \n",
              "0     A small fishing village must procure a local d...  \n",
              "1     A Metro Family decides to fight a Cyber Crimin...  \n",
              "2     After a man discovers his wife is cheating on ...  \n",
              "3     Pink breaks the mold once again, bringing her ...  \n",
              "4     Teenage Matt Banting wants to work with a famo...  \n",
              "...                                                 ...  \n",
              "9663  New York City street principles get an East Si...  \n",
              "9664  This is Earth, 2100AD - and these are the adve...  \n",
              "9665  In war-torn Eastern Europe, a world-weary grou...  \n",
              "9666  The series tells the story of Diego Maradona, ...  \n",
              "9667  Harry Brown, starring two-time Academy Award w...  \n",
              "\n",
              "[9668 rows x 12 columns]"
            ],
            "text/html": [
              "\n",
              "  <div id=\"df-643edef1-a285-4511-b3d4-7daf39ac3d02\">\n",
              "    <div class=\"colab-df-container\">\n",
              "      <div>\n",
              "<style scoped>\n",
              "    .dataframe tbody tr th:only-of-type {\n",
              "        vertical-align: middle;\n",
              "    }\n",
              "\n",
              "    .dataframe tbody tr th {\n",
              "        vertical-align: top;\n",
              "    }\n",
              "\n",
              "    .dataframe thead th {\n",
              "        text-align: right;\n",
              "    }\n",
              "</style>\n",
              "<table border=\"1\" class=\"dataframe\">\n",
              "  <thead>\n",
              "    <tr style=\"text-align: right;\">\n",
              "      <th></th>\n",
              "      <th>show_id</th>\n",
              "      <th>type</th>\n",
              "      <th>title</th>\n",
              "      <th>director</th>\n",
              "      <th>cast</th>\n",
              "      <th>country</th>\n",
              "      <th>date_added</th>\n",
              "      <th>release_year</th>\n",
              "      <th>rating</th>\n",
              "      <th>duration</th>\n",
              "      <th>listed_in</th>\n",
              "      <th>description</th>\n",
              "    </tr>\n",
              "  </thead>\n",
              "  <tbody>\n",
              "    <tr>\n",
              "      <th>0</th>\n",
              "      <td>s1</td>\n",
              "      <td>Movie</td>\n",
              "      <td>The Grand Seduction</td>\n",
              "      <td>Don McKellar</td>\n",
              "      <td>Brendan Gleeson, Taylor Kitsch, Gordon Pinsent</td>\n",
              "      <td>Canada</td>\n",
              "      <td>March 30, 2021</td>\n",
              "      <td>2014</td>\n",
              "      <td>NaN</td>\n",
              "      <td>113 min</td>\n",
              "      <td>Comedy, Drama</td>\n",
              "      <td>A small fishing village must procure a local d...</td>\n",
              "    </tr>\n",
              "    <tr>\n",
              "      <th>1</th>\n",
              "      <td>s2</td>\n",
              "      <td>Movie</td>\n",
              "      <td>Take Care Good Night</td>\n",
              "      <td>Girish Joshi</td>\n",
              "      <td>Mahesh Manjrekar, Abhay Mahajan, Sachin Khedekar</td>\n",
              "      <td>India</td>\n",
              "      <td>March 30, 2021</td>\n",
              "      <td>2018</td>\n",
              "      <td>13+</td>\n",
              "      <td>110 min</td>\n",
              "      <td>Drama, International</td>\n",
              "      <td>A Metro Family decides to fight a Cyber Crimin...</td>\n",
              "    </tr>\n",
              "    <tr>\n",
              "      <th>2</th>\n",
              "      <td>s3</td>\n",
              "      <td>Movie</td>\n",
              "      <td>Secrets of Deception</td>\n",
              "      <td>Josh Webber</td>\n",
              "      <td>Tom Sizemore, Lorenzo Lamas, Robert LaSardo, R...</td>\n",
              "      <td>United States</td>\n",
              "      <td>March 30, 2021</td>\n",
              "      <td>2017</td>\n",
              "      <td>NaN</td>\n",
              "      <td>74 min</td>\n",
              "      <td>Action, Drama, Suspense</td>\n",
              "      <td>After a man discovers his wife is cheating on ...</td>\n",
              "    </tr>\n",
              "    <tr>\n",
              "      <th>3</th>\n",
              "      <td>s4</td>\n",
              "      <td>Movie</td>\n",
              "      <td>Pink: Staying True</td>\n",
              "      <td>Sonia Anderson</td>\n",
              "      <td>Interviews with: Pink, Adele, Beyoncé, Britney...</td>\n",
              "      <td>United States</td>\n",
              "      <td>March 30, 2021</td>\n",
              "      <td>2014</td>\n",
              "      <td>NaN</td>\n",
              "      <td>69 min</td>\n",
              "      <td>Documentary</td>\n",
              "      <td>Pink breaks the mold once again, bringing her ...</td>\n",
              "    </tr>\n",
              "    <tr>\n",
              "      <th>4</th>\n",
              "      <td>s5</td>\n",
              "      <td>Movie</td>\n",
              "      <td>Monster Maker</td>\n",
              "      <td>Giles Foster</td>\n",
              "      <td>Harry Dean Stanton, Kieran O'Brien, George Cos...</td>\n",
              "      <td>United Kingdom</td>\n",
              "      <td>March 30, 2021</td>\n",
              "      <td>1989</td>\n",
              "      <td>NaN</td>\n",
              "      <td>45 min</td>\n",
              "      <td>Drama, Fantasy</td>\n",
              "      <td>Teenage Matt Banting wants to work with a famo...</td>\n",
              "    </tr>\n",
              "    <tr>\n",
              "      <th>...</th>\n",
              "      <td>...</td>\n",
              "      <td>...</td>\n",
              "      <td>...</td>\n",
              "      <td>...</td>\n",
              "      <td>...</td>\n",
              "      <td>...</td>\n",
              "      <td>...</td>\n",
              "      <td>...</td>\n",
              "      <td>...</td>\n",
              "      <td>...</td>\n",
              "      <td>...</td>\n",
              "      <td>...</td>\n",
              "    </tr>\n",
              "    <tr>\n",
              "      <th>9663</th>\n",
              "      <td>s9664</td>\n",
              "      <td>Movie</td>\n",
              "      <td>Pride Of The Bowery</td>\n",
              "      <td>Joseph H. Lewis</td>\n",
              "      <td>Leo Gorcey, Bobby Jordan</td>\n",
              "      <td>NaN</td>\n",
              "      <td>NaN</td>\n",
              "      <td>1940</td>\n",
              "      <td>7+</td>\n",
              "      <td>60 min</td>\n",
              "      <td>Comedy</td>\n",
              "      <td>New York City street principles get an East Si...</td>\n",
              "    </tr>\n",
              "    <tr>\n",
              "      <th>9664</th>\n",
              "      <td>s9665</td>\n",
              "      <td>TV Show</td>\n",
              "      <td>Planet Patrol</td>\n",
              "      <td>NaN</td>\n",
              "      <td>DICK VOSBURGH, RONNIE STEVENS, LIBBY MORRIS, M...</td>\n",
              "      <td>NaN</td>\n",
              "      <td>NaN</td>\n",
              "      <td>2018</td>\n",
              "      <td>13+</td>\n",
              "      <td>4 Seasons</td>\n",
              "      <td>TV Shows</td>\n",
              "      <td>This is Earth, 2100AD - and these are the adve...</td>\n",
              "    </tr>\n",
              "    <tr>\n",
              "      <th>9665</th>\n",
              "      <td>s9666</td>\n",
              "      <td>Movie</td>\n",
              "      <td>Outpost</td>\n",
              "      <td>Steve Barker</td>\n",
              "      <td>Ray Stevenson, Julian Wadham, Richard Brake, M...</td>\n",
              "      <td>NaN</td>\n",
              "      <td>NaN</td>\n",
              "      <td>2008</td>\n",
              "      <td>R</td>\n",
              "      <td>90 min</td>\n",
              "      <td>Action</td>\n",
              "      <td>In war-torn Eastern Europe, a world-weary grou...</td>\n",
              "    </tr>\n",
              "    <tr>\n",
              "      <th>9666</th>\n",
              "      <td>s9667</td>\n",
              "      <td>TV Show</td>\n",
              "      <td>Maradona: Blessed Dream</td>\n",
              "      <td>NaN</td>\n",
              "      <td>Esteban Recagno, Ezequiel Stremiz, Luciano Vit...</td>\n",
              "      <td>NaN</td>\n",
              "      <td>NaN</td>\n",
              "      <td>2021</td>\n",
              "      <td>TV-MA</td>\n",
              "      <td>1 Season</td>\n",
              "      <td>Drama, Sports</td>\n",
              "      <td>The series tells the story of Diego Maradona, ...</td>\n",
              "    </tr>\n",
              "    <tr>\n",
              "      <th>9667</th>\n",
              "      <td>s9668</td>\n",
              "      <td>Movie</td>\n",
              "      <td>Harry Brown</td>\n",
              "      <td>Daniel Barber</td>\n",
              "      <td>Michael Caine, Emily Mortimer, Joseph Gilgun, ...</td>\n",
              "      <td>NaN</td>\n",
              "      <td>NaN</td>\n",
              "      <td>2010</td>\n",
              "      <td>R</td>\n",
              "      <td>103 min</td>\n",
              "      <td>Action, Drama, Suspense</td>\n",
              "      <td>Harry Brown, starring two-time Academy Award w...</td>\n",
              "    </tr>\n",
              "  </tbody>\n",
              "</table>\n",
              "<p>9668 rows × 12 columns</p>\n",
              "</div>\n",
              "      <button class=\"colab-df-convert\" onclick=\"convertToInteractive('df-643edef1-a285-4511-b3d4-7daf39ac3d02')\"\n",
              "              title=\"Convert this dataframe to an interactive table.\"\n",
              "              style=\"display:none;\">\n",
              "        \n",
              "  <svg xmlns=\"http://www.w3.org/2000/svg\" height=\"24px\"viewBox=\"0 0 24 24\"\n",
              "       width=\"24px\">\n",
              "    <path d=\"M0 0h24v24H0V0z\" fill=\"none\"/>\n",
              "    <path d=\"M18.56 5.44l.94 2.06.94-2.06 2.06-.94-2.06-.94-.94-2.06-.94 2.06-2.06.94zm-11 1L8.5 8.5l.94-2.06 2.06-.94-2.06-.94L8.5 2.5l-.94 2.06-2.06.94zm10 10l.94 2.06.94-2.06 2.06-.94-2.06-.94-.94-2.06-.94 2.06-2.06.94z\"/><path d=\"M17.41 7.96l-1.37-1.37c-.4-.4-.92-.59-1.43-.59-.52 0-1.04.2-1.43.59L10.3 9.45l-7.72 7.72c-.78.78-.78 2.05 0 2.83L4 21.41c.39.39.9.59 1.41.59.51 0 1.02-.2 1.41-.59l7.78-7.78 2.81-2.81c.8-.78.8-2.07 0-2.86zM5.41 20L4 18.59l7.72-7.72 1.47 1.35L5.41 20z\"/>\n",
              "  </svg>\n",
              "      </button>\n",
              "      \n",
              "  <style>\n",
              "    .colab-df-container {\n",
              "      display:flex;\n",
              "      flex-wrap:wrap;\n",
              "      gap: 12px;\n",
              "    }\n",
              "\n",
              "    .colab-df-convert {\n",
              "      background-color: #E8F0FE;\n",
              "      border: none;\n",
              "      border-radius: 50%;\n",
              "      cursor: pointer;\n",
              "      display: none;\n",
              "      fill: #1967D2;\n",
              "      height: 32px;\n",
              "      padding: 0 0 0 0;\n",
              "      width: 32px;\n",
              "    }\n",
              "\n",
              "    .colab-df-convert:hover {\n",
              "      background-color: #E2EBFA;\n",
              "      box-shadow: 0px 1px 2px rgba(60, 64, 67, 0.3), 0px 1px 3px 1px rgba(60, 64, 67, 0.15);\n",
              "      fill: #174EA6;\n",
              "    }\n",
              "\n",
              "    [theme=dark] .colab-df-convert {\n",
              "      background-color: #3B4455;\n",
              "      fill: #D2E3FC;\n",
              "    }\n",
              "\n",
              "    [theme=dark] .colab-df-convert:hover {\n",
              "      background-color: #434B5C;\n",
              "      box-shadow: 0px 1px 3px 1px rgba(0, 0, 0, 0.15);\n",
              "      filter: drop-shadow(0px 1px 2px rgba(0, 0, 0, 0.3));\n",
              "      fill: #FFFFFF;\n",
              "    }\n",
              "  </style>\n",
              "\n",
              "      <script>\n",
              "        const buttonEl =\n",
              "          document.querySelector('#df-643edef1-a285-4511-b3d4-7daf39ac3d02 button.colab-df-convert');\n",
              "        buttonEl.style.display =\n",
              "          google.colab.kernel.accessAllowed ? 'block' : 'none';\n",
              "\n",
              "        async function convertToInteractive(key) {\n",
              "          const element = document.querySelector('#df-643edef1-a285-4511-b3d4-7daf39ac3d02');\n",
              "          const dataTable =\n",
              "            await google.colab.kernel.invokeFunction('convertToInteractive',\n",
              "                                                     [key], {});\n",
              "          if (!dataTable) return;\n",
              "\n",
              "          const docLinkHtml = 'Like what you see? Visit the ' +\n",
              "            '<a target=\"_blank\" href=https://colab.research.google.com/notebooks/data_table.ipynb>data table notebook</a>'\n",
              "            + ' to learn more about interactive tables.';\n",
              "          element.innerHTML = '';\n",
              "          dataTable['output_type'] = 'display_data';\n",
              "          await google.colab.output.renderOutput(dataTable, element);\n",
              "          const docLink = document.createElement('div');\n",
              "          docLink.innerHTML = docLinkHtml;\n",
              "          element.appendChild(docLink);\n",
              "        }\n",
              "      </script>\n",
              "    </div>\n",
              "  </div>\n",
              "  "
            ]
          },
          "metadata": {},
          "execution_count": 46
        }
      ]
    },
    {
      "cell_type": "markdown",
      "source": [
        "# Question 1: top 5 des meilleurs categories :"
      ],
      "metadata": {
        "id": "ZT8uOxPM_cIs"
      }
    },
    {
      "cell_type": "markdown",
      "source": [
        "nlargest()= il retourne  les 5 types de contenu les plus fréquents.\n",
        "value_counts= retourne combien de fois chaque type est apparru dans la base de donnee .\n",
        "db[\"type\"]= c'est la base de donnee qui prend en parametre le type \"categorie\"."
      ],
      "metadata": {
        "id": "gTlsCsmhAwSF"
      }
    },
    {
      "cell_type": "code",
      "source": [
        "top_categories = db[\"type\"].value_counts().nlargest(5)\n",
        "print(top_categories)"
      ],
      "metadata": {
        "colab": {
          "base_uri": "https://localhost:8080/"
        },
        "id": "NrOvi8Q2_qKN",
        "outputId": "fa1aab0b-cc6e-4d8d-ad1c-b9adbfe5be7b"
      },
      "execution_count": 9,
      "outputs": [
        {
          "output_type": "stream",
          "name": "stdout",
          "text": [
            "Movie      7814\n",
            "TV Show    1854\n",
            "Name: type, dtype: int64\n"
          ]
        }
      ]
    },
    {
      "cell_type": "markdown",
      "source": [
        "# Question 2: les top 5 des realisateurs : "
      ],
      "metadata": {
        "id": "Cx6MIiBZBhLv"
      }
    },
    {
      "cell_type": "markdown",
      "source": [
        "c'est le meme fonctionnement du code precedant juste on remplace \"type\" par \"director\""
      ],
      "metadata": {
        "id": "CKRfvGoVNpN-"
      }
    },
    {
      "cell_type": "code",
      "source": [
        "top_realisateurs = db[\"director\"].value_counts().nlargest(5)\n",
        "print(top_realisateurs)"
      ],
      "metadata": {
        "colab": {
          "base_uri": "https://localhost:8080/"
        },
        "id": "TNOkUcKHBrqj",
        "outputId": "36612485-7166-4414-f444-f8c56f1f3dfc"
      },
      "execution_count": 10,
      "outputs": [
        {
          "output_type": "stream",
          "name": "stdout",
          "text": [
            "Mark Knight              113\n",
            "Cannis Holder             61\n",
            "Moonbug Entertainment     37\n",
            "Jay Chapman               34\n",
            "Arthur van Merwijk        30\n",
            "Name: director, dtype: int64\n"
          ]
        }
      ]
    },
    {
      "cell_type": "markdown",
      "source": [
        "# Question 3 : les 10 meilleurs acteurs :"
      ],
      "metadata": {
        "id": "TrMt63ycCCWy"
      }
    },
    {
      "cell_type": "markdown",
      "source": [
        "Ce code extrait les acteurs du DataFrame \"db\" en les séparant en fonction de la virgule suivie d'un espace dans la colonne \"cast\". Ensuite, il compte le nombre de fois que chaque acteur apparaît dans le DataFrame en utilisant \"stack()\", puis renvoie les dix acteurs les plus fréquents. Ces dix acteurs sont affichés avec le nombre de fois où ils apparaissent dans le DataFrame."
      ],
      "metadata": {
        "id": "GHj5J2hiN8Be"
      }
    },
    {
      "cell_type": "code",
      "source": [
        "top_acteurs = db[\"cast\"].str.split(\", \", expand=True).stack().value_counts().nlargest(10)\n",
        "print(top_acteurs)"
      ],
      "metadata": {
        "colab": {
          "base_uri": "https://localhost:8080/"
        },
        "id": "KUjHqn9mCMeG",
        "outputId": "f8316e21-5fe9-4e61-c2cb-0a141cbd42b9"
      },
      "execution_count": 11,
      "outputs": [
        {
          "output_type": "stream",
          "name": "stdout",
          "text": [
            "Maggie Binkley        56\n",
            "1                     35\n",
            "Gene Autry            32\n",
            "Nassar                30\n",
            "Champion              29\n",
            "Anne-Marie Newland    25\n",
            "Prakash Raj           24\n",
            "John Wayne            23\n",
            "Roy Rogers            23\n",
            "Danny Trejo           22\n",
            "dtype: int64\n"
          ]
        }
      ]
    },
    {
      "cell_type": "markdown",
      "source": [
        "# Question 4 : "
      ],
      "metadata": {
        "id": "xzg_-i8UDFFC"
      }
    },
    {
      "cell_type": "markdown",
      "source": [
        "# Question 5: Identifier des contenus similaires en faisant correspondre des caractéristiques textuelles :"
      ],
      "metadata": {
        "id": "W8HRZcWwHCa3"
      }
    },
    {
      "cell_type": "markdown",
      "source": [
        "\"db.duplicated(subset=['title'])\" renvoie un tableau booléen qui indique pour chaque ligne du DataFrame db si elle est en doublon ou non en se basant sur la colonne \"title\"."
      ],
      "metadata": {
        "id": "qeRaGhX7O6MI"
      }
    },
    {
      "cell_type": "code",
      "source": [
        "db.duplicated(subset=['title'])"
      ],
      "metadata": {
        "colab": {
          "base_uri": "https://localhost:8080/"
        },
        "id": "O5HfCaW8HRRJ",
        "outputId": "0da38033-eb50-4350-ac9b-842ce3264dfa"
      },
      "execution_count": 18,
      "outputs": [
        {
          "output_type": "execute_result",
          "data": {
            "text/plain": [
              "0       False\n",
              "1       False\n",
              "2       False\n",
              "3       False\n",
              "4       False\n",
              "        ...  \n",
              "9663    False\n",
              "9664    False\n",
              "9665    False\n",
              "9666    False\n",
              "9667    False\n",
              "Length: 9668, dtype: bool"
            ]
          },
          "metadata": {},
          "execution_count": 18
        }
      ]
    },
    {
      "cell_type": "markdown",
      "source": [
        "# Question 6: Netflix/Amazon/Disney se concentre-t-il davantage sur les séries télévisées que sur les films ces dernières années ?"
      ],
      "metadata": {
        "id": "Q12K4jGWHyog"
      }
    },
    {
      "cell_type": "markdown",
      "source": [
        "# Question 7: Affichage de la dimension de la base de donnee:"
      ],
      "metadata": {
        "id": "7mq_fl3OIMBe"
      }
    },
    {
      "cell_type": "markdown",
      "source": [
        "ce code retourne le nombre des lignes et nombre de colonnes dans la base de donnee : \"9668\"=nombre de lignes .\n",
        "         \"12\" = nombre de colonnes .  "
      ],
      "metadata": {
        "id": "ewDazGhjIjjg"
      }
    },
    {
      "cell_type": "code",
      "source": [
        "db.shape"
      ],
      "metadata": {
        "colab": {
          "base_uri": "https://localhost:8080/"
        },
        "id": "95fEfMdHIXNH",
        "outputId": "d3bce53a-b6a8-451f-b822-b8652fd15170"
      },
      "execution_count": 21,
      "outputs": [
        {
          "output_type": "execute_result",
          "data": {
            "text/plain": [
              "(9668, 12)"
            ]
          },
          "metadata": {},
          "execution_count": 21
        }
      ]
    },
    {
      "cell_type": "markdown",
      "source": [
        "# Question 8: les 10 premieres lignes de la base de donnees:"
      ],
      "metadata": {
        "id": "utPhakW7I-vy"
      }
    },
    {
      "cell_type": "code",
      "source": [
        "db.head(10)"
      ],
      "metadata": {
        "colab": {
          "base_uri": "https://localhost:8080/",
          "height": 754
        },
        "id": "gDesTro_JItZ",
        "outputId": "bc52917b-a11d-42f1-ad04-128729a6471c"
      },
      "execution_count": 24,
      "outputs": [
        {
          "output_type": "execute_result",
          "data": {
            "text/plain": [
              "  show_id   type                  title                     director  \\\n",
              "0      s1  Movie    The Grand Seduction                 Don McKellar   \n",
              "1      s2  Movie   Take Care Good Night                 Girish Joshi   \n",
              "2      s3  Movie   Secrets of Deception                  Josh Webber   \n",
              "3      s4  Movie     Pink: Staying True               Sonia Anderson   \n",
              "4      s5  Movie          Monster Maker                 Giles Foster   \n",
              "5      s6  Movie  Living With Dinosaurs                 Paul Weiland   \n",
              "6      s7  Movie              Hired Gun                  Fran Strine   \n",
              "7      s8  Movie           Grease Live!  Thomas Kail, Alex Rudzinski   \n",
              "8      s9  Movie        Global Meltdown                Daniel Gilboy   \n",
              "9     s10  Movie         David's Mother        Robert Allan Ackerman   \n",
              "\n",
              "                                                cast         country  \\\n",
              "0     Brendan Gleeson, Taylor Kitsch, Gordon Pinsent          Canada   \n",
              "1   Mahesh Manjrekar, Abhay Mahajan, Sachin Khedekar           India   \n",
              "2  Tom Sizemore, Lorenzo Lamas, Robert LaSardo, R...   United States   \n",
              "3  Interviews with: Pink, Adele, Beyoncé, Britney...   United States   \n",
              "4  Harry Dean Stanton, Kieran O'Brien, George Cos...  United Kingdom   \n",
              "5  Gregory Chisholm, Juliet Stevenson, Brian Hens...  United Kingdom   \n",
              "6  Alice Cooper, Liberty DeVitto, Ray Parker Jr.,...   United States   \n",
              "7  Julianne Hough, Aaron Tveit, Vanessa Hudgens, ...   United States   \n",
              "8  Michael Paré, Leanne Khol Young, Patrick J. Ma...          Canada   \n",
              "9    Kirstie Alley, Sam Waterston, Stockard Channing   United States   \n",
              "\n",
              "       date_added  release_year rating duration  \\\n",
              "0  March 30, 2021          2014    NaN  113 min   \n",
              "1  March 30, 2021          2018    13+  110 min   \n",
              "2  March 30, 2021          2017    NaN   74 min   \n",
              "3  March 30, 2021          2014    NaN   69 min   \n",
              "4  March 30, 2021          1989    NaN   45 min   \n",
              "5  March 30, 2021          1989    NaN   52 min   \n",
              "6  March 30, 2021          2017    NaN   98 min   \n",
              "7  March 30, 2021          2016    NaN  131 min   \n",
              "8  March 30, 2021          2017    NaN   87 min   \n",
              "9   April 1, 2021          1994    NaN   92 min   \n",
              "\n",
              "                           listed_in  \\\n",
              "0                      Comedy, Drama   \n",
              "1               Drama, International   \n",
              "2            Action, Drama, Suspense   \n",
              "3                        Documentary   \n",
              "4                     Drama, Fantasy   \n",
              "5                      Fantasy, Kids   \n",
              "6      Documentary, Special Interest   \n",
              "7                             Comedy   \n",
              "8  Action, Science Fiction, Suspense   \n",
              "9                              Drama   \n",
              "\n",
              "                                         description  \n",
              "0  A small fishing village must procure a local d...  \n",
              "1  A Metro Family decides to fight a Cyber Crimin...  \n",
              "2  After a man discovers his wife is cheating on ...  \n",
              "3  Pink breaks the mold once again, bringing her ...  \n",
              "4  Teenage Matt Banting wants to work with a famo...  \n",
              "5  The story unfolds in a an English seaside town...  \n",
              "6  They are the \"First Call, A-list\" musicians, j...  \n",
              "7  This honest, uncompromising comedy chronicles ...  \n",
              "8  A helicopter pilot and an environmental scient...  \n",
              "9  Sally Goodson is a devoted mother to her autis...  "
            ],
            "text/html": [
              "\n",
              "  <div id=\"df-0bd91214-92fa-4367-b4ab-0d8b38afd98b\">\n",
              "    <div class=\"colab-df-container\">\n",
              "      <div>\n",
              "<style scoped>\n",
              "    .dataframe tbody tr th:only-of-type {\n",
              "        vertical-align: middle;\n",
              "    }\n",
              "\n",
              "    .dataframe tbody tr th {\n",
              "        vertical-align: top;\n",
              "    }\n",
              "\n",
              "    .dataframe thead th {\n",
              "        text-align: right;\n",
              "    }\n",
              "</style>\n",
              "<table border=\"1\" class=\"dataframe\">\n",
              "  <thead>\n",
              "    <tr style=\"text-align: right;\">\n",
              "      <th></th>\n",
              "      <th>show_id</th>\n",
              "      <th>type</th>\n",
              "      <th>title</th>\n",
              "      <th>director</th>\n",
              "      <th>cast</th>\n",
              "      <th>country</th>\n",
              "      <th>date_added</th>\n",
              "      <th>release_year</th>\n",
              "      <th>rating</th>\n",
              "      <th>duration</th>\n",
              "      <th>listed_in</th>\n",
              "      <th>description</th>\n",
              "    </tr>\n",
              "  </thead>\n",
              "  <tbody>\n",
              "    <tr>\n",
              "      <th>0</th>\n",
              "      <td>s1</td>\n",
              "      <td>Movie</td>\n",
              "      <td>The Grand Seduction</td>\n",
              "      <td>Don McKellar</td>\n",
              "      <td>Brendan Gleeson, Taylor Kitsch, Gordon Pinsent</td>\n",
              "      <td>Canada</td>\n",
              "      <td>March 30, 2021</td>\n",
              "      <td>2014</td>\n",
              "      <td>NaN</td>\n",
              "      <td>113 min</td>\n",
              "      <td>Comedy, Drama</td>\n",
              "      <td>A small fishing village must procure a local d...</td>\n",
              "    </tr>\n",
              "    <tr>\n",
              "      <th>1</th>\n",
              "      <td>s2</td>\n",
              "      <td>Movie</td>\n",
              "      <td>Take Care Good Night</td>\n",
              "      <td>Girish Joshi</td>\n",
              "      <td>Mahesh Manjrekar, Abhay Mahajan, Sachin Khedekar</td>\n",
              "      <td>India</td>\n",
              "      <td>March 30, 2021</td>\n",
              "      <td>2018</td>\n",
              "      <td>13+</td>\n",
              "      <td>110 min</td>\n",
              "      <td>Drama, International</td>\n",
              "      <td>A Metro Family decides to fight a Cyber Crimin...</td>\n",
              "    </tr>\n",
              "    <tr>\n",
              "      <th>2</th>\n",
              "      <td>s3</td>\n",
              "      <td>Movie</td>\n",
              "      <td>Secrets of Deception</td>\n",
              "      <td>Josh Webber</td>\n",
              "      <td>Tom Sizemore, Lorenzo Lamas, Robert LaSardo, R...</td>\n",
              "      <td>United States</td>\n",
              "      <td>March 30, 2021</td>\n",
              "      <td>2017</td>\n",
              "      <td>NaN</td>\n",
              "      <td>74 min</td>\n",
              "      <td>Action, Drama, Suspense</td>\n",
              "      <td>After a man discovers his wife is cheating on ...</td>\n",
              "    </tr>\n",
              "    <tr>\n",
              "      <th>3</th>\n",
              "      <td>s4</td>\n",
              "      <td>Movie</td>\n",
              "      <td>Pink: Staying True</td>\n",
              "      <td>Sonia Anderson</td>\n",
              "      <td>Interviews with: Pink, Adele, Beyoncé, Britney...</td>\n",
              "      <td>United States</td>\n",
              "      <td>March 30, 2021</td>\n",
              "      <td>2014</td>\n",
              "      <td>NaN</td>\n",
              "      <td>69 min</td>\n",
              "      <td>Documentary</td>\n",
              "      <td>Pink breaks the mold once again, bringing her ...</td>\n",
              "    </tr>\n",
              "    <tr>\n",
              "      <th>4</th>\n",
              "      <td>s5</td>\n",
              "      <td>Movie</td>\n",
              "      <td>Monster Maker</td>\n",
              "      <td>Giles Foster</td>\n",
              "      <td>Harry Dean Stanton, Kieran O'Brien, George Cos...</td>\n",
              "      <td>United Kingdom</td>\n",
              "      <td>March 30, 2021</td>\n",
              "      <td>1989</td>\n",
              "      <td>NaN</td>\n",
              "      <td>45 min</td>\n",
              "      <td>Drama, Fantasy</td>\n",
              "      <td>Teenage Matt Banting wants to work with a famo...</td>\n",
              "    </tr>\n",
              "    <tr>\n",
              "      <th>5</th>\n",
              "      <td>s6</td>\n",
              "      <td>Movie</td>\n",
              "      <td>Living With Dinosaurs</td>\n",
              "      <td>Paul Weiland</td>\n",
              "      <td>Gregory Chisholm, Juliet Stevenson, Brian Hens...</td>\n",
              "      <td>United Kingdom</td>\n",
              "      <td>March 30, 2021</td>\n",
              "      <td>1989</td>\n",
              "      <td>NaN</td>\n",
              "      <td>52 min</td>\n",
              "      <td>Fantasy, Kids</td>\n",
              "      <td>The story unfolds in a an English seaside town...</td>\n",
              "    </tr>\n",
              "    <tr>\n",
              "      <th>6</th>\n",
              "      <td>s7</td>\n",
              "      <td>Movie</td>\n",
              "      <td>Hired Gun</td>\n",
              "      <td>Fran Strine</td>\n",
              "      <td>Alice Cooper, Liberty DeVitto, Ray Parker Jr.,...</td>\n",
              "      <td>United States</td>\n",
              "      <td>March 30, 2021</td>\n",
              "      <td>2017</td>\n",
              "      <td>NaN</td>\n",
              "      <td>98 min</td>\n",
              "      <td>Documentary, Special Interest</td>\n",
              "      <td>They are the \"First Call, A-list\" musicians, j...</td>\n",
              "    </tr>\n",
              "    <tr>\n",
              "      <th>7</th>\n",
              "      <td>s8</td>\n",
              "      <td>Movie</td>\n",
              "      <td>Grease Live!</td>\n",
              "      <td>Thomas Kail, Alex Rudzinski</td>\n",
              "      <td>Julianne Hough, Aaron Tveit, Vanessa Hudgens, ...</td>\n",
              "      <td>United States</td>\n",
              "      <td>March 30, 2021</td>\n",
              "      <td>2016</td>\n",
              "      <td>NaN</td>\n",
              "      <td>131 min</td>\n",
              "      <td>Comedy</td>\n",
              "      <td>This honest, uncompromising comedy chronicles ...</td>\n",
              "    </tr>\n",
              "    <tr>\n",
              "      <th>8</th>\n",
              "      <td>s9</td>\n",
              "      <td>Movie</td>\n",
              "      <td>Global Meltdown</td>\n",
              "      <td>Daniel Gilboy</td>\n",
              "      <td>Michael Paré, Leanne Khol Young, Patrick J. Ma...</td>\n",
              "      <td>Canada</td>\n",
              "      <td>March 30, 2021</td>\n",
              "      <td>2017</td>\n",
              "      <td>NaN</td>\n",
              "      <td>87 min</td>\n",
              "      <td>Action, Science Fiction, Suspense</td>\n",
              "      <td>A helicopter pilot and an environmental scient...</td>\n",
              "    </tr>\n",
              "    <tr>\n",
              "      <th>9</th>\n",
              "      <td>s10</td>\n",
              "      <td>Movie</td>\n",
              "      <td>David's Mother</td>\n",
              "      <td>Robert Allan Ackerman</td>\n",
              "      <td>Kirstie Alley, Sam Waterston, Stockard Channing</td>\n",
              "      <td>United States</td>\n",
              "      <td>April 1, 2021</td>\n",
              "      <td>1994</td>\n",
              "      <td>NaN</td>\n",
              "      <td>92 min</td>\n",
              "      <td>Drama</td>\n",
              "      <td>Sally Goodson is a devoted mother to her autis...</td>\n",
              "    </tr>\n",
              "  </tbody>\n",
              "</table>\n",
              "</div>\n",
              "      <button class=\"colab-df-convert\" onclick=\"convertToInteractive('df-0bd91214-92fa-4367-b4ab-0d8b38afd98b')\"\n",
              "              title=\"Convert this dataframe to an interactive table.\"\n",
              "              style=\"display:none;\">\n",
              "        \n",
              "  <svg xmlns=\"http://www.w3.org/2000/svg\" height=\"24px\"viewBox=\"0 0 24 24\"\n",
              "       width=\"24px\">\n",
              "    <path d=\"M0 0h24v24H0V0z\" fill=\"none\"/>\n",
              "    <path d=\"M18.56 5.44l.94 2.06.94-2.06 2.06-.94-2.06-.94-.94-2.06-.94 2.06-2.06.94zm-11 1L8.5 8.5l.94-2.06 2.06-.94-2.06-.94L8.5 2.5l-.94 2.06-2.06.94zm10 10l.94 2.06.94-2.06 2.06-.94-2.06-.94-.94-2.06-.94 2.06-2.06.94z\"/><path d=\"M17.41 7.96l-1.37-1.37c-.4-.4-.92-.59-1.43-.59-.52 0-1.04.2-1.43.59L10.3 9.45l-7.72 7.72c-.78.78-.78 2.05 0 2.83L4 21.41c.39.39.9.59 1.41.59.51 0 1.02-.2 1.41-.59l7.78-7.78 2.81-2.81c.8-.78.8-2.07 0-2.86zM5.41 20L4 18.59l7.72-7.72 1.47 1.35L5.41 20z\"/>\n",
              "  </svg>\n",
              "      </button>\n",
              "      \n",
              "  <style>\n",
              "    .colab-df-container {\n",
              "      display:flex;\n",
              "      flex-wrap:wrap;\n",
              "      gap: 12px;\n",
              "    }\n",
              "\n",
              "    .colab-df-convert {\n",
              "      background-color: #E8F0FE;\n",
              "      border: none;\n",
              "      border-radius: 50%;\n",
              "      cursor: pointer;\n",
              "      display: none;\n",
              "      fill: #1967D2;\n",
              "      height: 32px;\n",
              "      padding: 0 0 0 0;\n",
              "      width: 32px;\n",
              "    }\n",
              "\n",
              "    .colab-df-convert:hover {\n",
              "      background-color: #E2EBFA;\n",
              "      box-shadow: 0px 1px 2px rgba(60, 64, 67, 0.3), 0px 1px 3px 1px rgba(60, 64, 67, 0.15);\n",
              "      fill: #174EA6;\n",
              "    }\n",
              "\n",
              "    [theme=dark] .colab-df-convert {\n",
              "      background-color: #3B4455;\n",
              "      fill: #D2E3FC;\n",
              "    }\n",
              "\n",
              "    [theme=dark] .colab-df-convert:hover {\n",
              "      background-color: #434B5C;\n",
              "      box-shadow: 0px 1px 3px 1px rgba(0, 0, 0, 0.15);\n",
              "      filter: drop-shadow(0px 1px 2px rgba(0, 0, 0, 0.3));\n",
              "      fill: #FFFFFF;\n",
              "    }\n",
              "  </style>\n",
              "\n",
              "      <script>\n",
              "        const buttonEl =\n",
              "          document.querySelector('#df-0bd91214-92fa-4367-b4ab-0d8b38afd98b button.colab-df-convert');\n",
              "        buttonEl.style.display =\n",
              "          google.colab.kernel.accessAllowed ? 'block' : 'none';\n",
              "\n",
              "        async function convertToInteractive(key) {\n",
              "          const element = document.querySelector('#df-0bd91214-92fa-4367-b4ab-0d8b38afd98b');\n",
              "          const dataTable =\n",
              "            await google.colab.kernel.invokeFunction('convertToInteractive',\n",
              "                                                     [key], {});\n",
              "          if (!dataTable) return;\n",
              "\n",
              "          const docLinkHtml = 'Like what you see? Visit the ' +\n",
              "            '<a target=\"_blank\" href=https://colab.research.google.com/notebooks/data_table.ipynb>data table notebook</a>'\n",
              "            + ' to learn more about interactive tables.';\n",
              "          element.innerHTML = '';\n",
              "          dataTable['output_type'] = 'display_data';\n",
              "          await google.colab.output.renderOutput(dataTable, element);\n",
              "          const docLink = document.createElement('div');\n",
              "          docLink.innerHTML = docLinkHtml;\n",
              "          element.appendChild(docLink);\n",
              "        }\n",
              "      </script>\n",
              "    </div>\n",
              "  </div>\n",
              "  "
            ]
          },
          "metadata": {},
          "execution_count": 24
        }
      ]
    },
    {
      "cell_type": "markdown",
      "source": [
        "# Question 9: les 10 derniers lignes de la base de donnee:"
      ],
      "metadata": {
        "id": "ZY1jMpbIJZIl"
      }
    },
    {
      "cell_type": "code",
      "source": [
        "db.tail(10)"
      ],
      "metadata": {
        "colab": {
          "base_uri": "https://localhost:8080/",
          "height": 772
        },
        "id": "FTDV8RusJZvq",
        "outputId": "b3c8218c-3ea9-4689-c57d-2d86dcaec175"
      },
      "execution_count": 27,
      "outputs": [
        {
          "output_type": "execute_result",
          "data": {
            "text/plain": [
              "     show_id     type                       title  \\\n",
              "9658   s9659    Movie       12 Dates of Christmas   \n",
              "9659   s9660    Movie  10 Things I Hate About You   \n",
              "9660   s9661    Movie          The Man in the Hat   \n",
              "9661   s9662  TV Show                  Terrahawks   \n",
              "9662   s9663    Movie                       River   \n",
              "9663   s9664    Movie         Pride Of The Bowery   \n",
              "9664   s9665  TV Show               Planet Patrol   \n",
              "9665   s9666    Movie                     Outpost   \n",
              "9666   s9667  TV Show     Maradona: Blessed Dream   \n",
              "9667   s9668    Movie                 Harry Brown   \n",
              "\n",
              "                                 director  \\\n",
              "9658                                  NaN   \n",
              "9659                           Gil Junger   \n",
              "9660  John-Paul Davidson, Stephen Warbeck   \n",
              "9661                                  NaN   \n",
              "9662                           Emily Skye   \n",
              "9663                      Joseph H. Lewis   \n",
              "9664                                  NaN   \n",
              "9665                         Steve Barker   \n",
              "9666                                  NaN   \n",
              "9667                        Daniel Barber   \n",
              "\n",
              "                                                   cast country date_added  \\\n",
              "9658                                                NaN     NaN        NaN   \n",
              "9659  Heath Ledger, Julia Stiles, Joseph Gordon-Levi...     NaN        NaN   \n",
              "9660             Ciaran Hinds, Stephen Dillane, Maïwenn     NaN        NaN   \n",
              "9661  DENISE BRYER, WINDSOR DAVIES, JEREMY HITCHEN, ...     NaN        NaN   \n",
              "9662  Mary Cameron Rogers, Alexandra Rose, Rob Marsh...     NaN        NaN   \n",
              "9663                           Leo Gorcey, Bobby Jordan     NaN        NaN   \n",
              "9664  DICK VOSBURGH, RONNIE STEVENS, LIBBY MORRIS, M...     NaN        NaN   \n",
              "9665  Ray Stevenson, Julian Wadham, Richard Brake, M...     NaN        NaN   \n",
              "9666  Esteban Recagno, Ezequiel Stremiz, Luciano Vit...     NaN        NaN   \n",
              "9667  Michael Caine, Emily Mortimer, Joseph Gilgun, ...     NaN        NaN   \n",
              "\n",
              "      release_year rating   duration                         listed_in  \\\n",
              "9658          2011     PG     87 min                    Drama, Romance   \n",
              "9659          1999  PG-13     97 min            Comedy, Drama, Romance   \n",
              "9660          2021    13+     96 min                            Comedy   \n",
              "9661          1983    ALL  3 Seasons                          TV Shows   \n",
              "9662          2021    16+     93 min  Drama, Science Fiction, Suspense   \n",
              "9663          1940     7+     60 min                            Comedy   \n",
              "9664          2018    13+  4 Seasons                          TV Shows   \n",
              "9665          2008      R     90 min                            Action   \n",
              "9666          2021  TV-MA   1 Season                     Drama, Sports   \n",
              "9667          2010      R    103 min           Action, Drama, Suspense   \n",
              "\n",
              "                                            description  \n",
              "9658  Setup on a Christmas Eve date, a woman must re...  \n",
              "9659  On the first day at his new school, Cameron in...  \n",
              "9660  The Man in the Hat journeys through France in ...  \n",
              "9661  This thrilling, action-packed series saw Gerry...  \n",
              "9662  River is a grounded Sci-Fi mystery Thriller, t...  \n",
              "9663  New York City street principles get an East Si...  \n",
              "9664  This is Earth, 2100AD - and these are the adve...  \n",
              "9665  In war-torn Eastern Europe, a world-weary grou...  \n",
              "9666  The series tells the story of Diego Maradona, ...  \n",
              "9667  Harry Brown, starring two-time Academy Award w...  "
            ],
            "text/html": [
              "\n",
              "  <div id=\"df-9e9d8c80-be6b-4bc0-89ed-95939da1bb9d\">\n",
              "    <div class=\"colab-df-container\">\n",
              "      <div>\n",
              "<style scoped>\n",
              "    .dataframe tbody tr th:only-of-type {\n",
              "        vertical-align: middle;\n",
              "    }\n",
              "\n",
              "    .dataframe tbody tr th {\n",
              "        vertical-align: top;\n",
              "    }\n",
              "\n",
              "    .dataframe thead th {\n",
              "        text-align: right;\n",
              "    }\n",
              "</style>\n",
              "<table border=\"1\" class=\"dataframe\">\n",
              "  <thead>\n",
              "    <tr style=\"text-align: right;\">\n",
              "      <th></th>\n",
              "      <th>show_id</th>\n",
              "      <th>type</th>\n",
              "      <th>title</th>\n",
              "      <th>director</th>\n",
              "      <th>cast</th>\n",
              "      <th>country</th>\n",
              "      <th>date_added</th>\n",
              "      <th>release_year</th>\n",
              "      <th>rating</th>\n",
              "      <th>duration</th>\n",
              "      <th>listed_in</th>\n",
              "      <th>description</th>\n",
              "    </tr>\n",
              "  </thead>\n",
              "  <tbody>\n",
              "    <tr>\n",
              "      <th>9658</th>\n",
              "      <td>s9659</td>\n",
              "      <td>Movie</td>\n",
              "      <td>12 Dates of Christmas</td>\n",
              "      <td>NaN</td>\n",
              "      <td>NaN</td>\n",
              "      <td>NaN</td>\n",
              "      <td>NaN</td>\n",
              "      <td>2011</td>\n",
              "      <td>PG</td>\n",
              "      <td>87 min</td>\n",
              "      <td>Drama, Romance</td>\n",
              "      <td>Setup on a Christmas Eve date, a woman must re...</td>\n",
              "    </tr>\n",
              "    <tr>\n",
              "      <th>9659</th>\n",
              "      <td>s9660</td>\n",
              "      <td>Movie</td>\n",
              "      <td>10 Things I Hate About You</td>\n",
              "      <td>Gil Junger</td>\n",
              "      <td>Heath Ledger, Julia Stiles, Joseph Gordon-Levi...</td>\n",
              "      <td>NaN</td>\n",
              "      <td>NaN</td>\n",
              "      <td>1999</td>\n",
              "      <td>PG-13</td>\n",
              "      <td>97 min</td>\n",
              "      <td>Comedy, Drama, Romance</td>\n",
              "      <td>On the first day at his new school, Cameron in...</td>\n",
              "    </tr>\n",
              "    <tr>\n",
              "      <th>9660</th>\n",
              "      <td>s9661</td>\n",
              "      <td>Movie</td>\n",
              "      <td>The Man in the Hat</td>\n",
              "      <td>John-Paul Davidson, Stephen Warbeck</td>\n",
              "      <td>Ciaran Hinds, Stephen Dillane, Maïwenn</td>\n",
              "      <td>NaN</td>\n",
              "      <td>NaN</td>\n",
              "      <td>2021</td>\n",
              "      <td>13+</td>\n",
              "      <td>96 min</td>\n",
              "      <td>Comedy</td>\n",
              "      <td>The Man in the Hat journeys through France in ...</td>\n",
              "    </tr>\n",
              "    <tr>\n",
              "      <th>9661</th>\n",
              "      <td>s9662</td>\n",
              "      <td>TV Show</td>\n",
              "      <td>Terrahawks</td>\n",
              "      <td>NaN</td>\n",
              "      <td>DENISE BRYER, WINDSOR DAVIES, JEREMY HITCHEN, ...</td>\n",
              "      <td>NaN</td>\n",
              "      <td>NaN</td>\n",
              "      <td>1983</td>\n",
              "      <td>ALL</td>\n",
              "      <td>3 Seasons</td>\n",
              "      <td>TV Shows</td>\n",
              "      <td>This thrilling, action-packed series saw Gerry...</td>\n",
              "    </tr>\n",
              "    <tr>\n",
              "      <th>9662</th>\n",
              "      <td>s9663</td>\n",
              "      <td>Movie</td>\n",
              "      <td>River</td>\n",
              "      <td>Emily Skye</td>\n",
              "      <td>Mary Cameron Rogers, Alexandra Rose, Rob Marsh...</td>\n",
              "      <td>NaN</td>\n",
              "      <td>NaN</td>\n",
              "      <td>2021</td>\n",
              "      <td>16+</td>\n",
              "      <td>93 min</td>\n",
              "      <td>Drama, Science Fiction, Suspense</td>\n",
              "      <td>River is a grounded Sci-Fi mystery Thriller, t...</td>\n",
              "    </tr>\n",
              "    <tr>\n",
              "      <th>9663</th>\n",
              "      <td>s9664</td>\n",
              "      <td>Movie</td>\n",
              "      <td>Pride Of The Bowery</td>\n",
              "      <td>Joseph H. Lewis</td>\n",
              "      <td>Leo Gorcey, Bobby Jordan</td>\n",
              "      <td>NaN</td>\n",
              "      <td>NaN</td>\n",
              "      <td>1940</td>\n",
              "      <td>7+</td>\n",
              "      <td>60 min</td>\n",
              "      <td>Comedy</td>\n",
              "      <td>New York City street principles get an East Si...</td>\n",
              "    </tr>\n",
              "    <tr>\n",
              "      <th>9664</th>\n",
              "      <td>s9665</td>\n",
              "      <td>TV Show</td>\n",
              "      <td>Planet Patrol</td>\n",
              "      <td>NaN</td>\n",
              "      <td>DICK VOSBURGH, RONNIE STEVENS, LIBBY MORRIS, M...</td>\n",
              "      <td>NaN</td>\n",
              "      <td>NaN</td>\n",
              "      <td>2018</td>\n",
              "      <td>13+</td>\n",
              "      <td>4 Seasons</td>\n",
              "      <td>TV Shows</td>\n",
              "      <td>This is Earth, 2100AD - and these are the adve...</td>\n",
              "    </tr>\n",
              "    <tr>\n",
              "      <th>9665</th>\n",
              "      <td>s9666</td>\n",
              "      <td>Movie</td>\n",
              "      <td>Outpost</td>\n",
              "      <td>Steve Barker</td>\n",
              "      <td>Ray Stevenson, Julian Wadham, Richard Brake, M...</td>\n",
              "      <td>NaN</td>\n",
              "      <td>NaN</td>\n",
              "      <td>2008</td>\n",
              "      <td>R</td>\n",
              "      <td>90 min</td>\n",
              "      <td>Action</td>\n",
              "      <td>In war-torn Eastern Europe, a world-weary grou...</td>\n",
              "    </tr>\n",
              "    <tr>\n",
              "      <th>9666</th>\n",
              "      <td>s9667</td>\n",
              "      <td>TV Show</td>\n",
              "      <td>Maradona: Blessed Dream</td>\n",
              "      <td>NaN</td>\n",
              "      <td>Esteban Recagno, Ezequiel Stremiz, Luciano Vit...</td>\n",
              "      <td>NaN</td>\n",
              "      <td>NaN</td>\n",
              "      <td>2021</td>\n",
              "      <td>TV-MA</td>\n",
              "      <td>1 Season</td>\n",
              "      <td>Drama, Sports</td>\n",
              "      <td>The series tells the story of Diego Maradona, ...</td>\n",
              "    </tr>\n",
              "    <tr>\n",
              "      <th>9667</th>\n",
              "      <td>s9668</td>\n",
              "      <td>Movie</td>\n",
              "      <td>Harry Brown</td>\n",
              "      <td>Daniel Barber</td>\n",
              "      <td>Michael Caine, Emily Mortimer, Joseph Gilgun, ...</td>\n",
              "      <td>NaN</td>\n",
              "      <td>NaN</td>\n",
              "      <td>2010</td>\n",
              "      <td>R</td>\n",
              "      <td>103 min</td>\n",
              "      <td>Action, Drama, Suspense</td>\n",
              "      <td>Harry Brown, starring two-time Academy Award w...</td>\n",
              "    </tr>\n",
              "  </tbody>\n",
              "</table>\n",
              "</div>\n",
              "      <button class=\"colab-df-convert\" onclick=\"convertToInteractive('df-9e9d8c80-be6b-4bc0-89ed-95939da1bb9d')\"\n",
              "              title=\"Convert this dataframe to an interactive table.\"\n",
              "              style=\"display:none;\">\n",
              "        \n",
              "  <svg xmlns=\"http://www.w3.org/2000/svg\" height=\"24px\"viewBox=\"0 0 24 24\"\n",
              "       width=\"24px\">\n",
              "    <path d=\"M0 0h24v24H0V0z\" fill=\"none\"/>\n",
              "    <path d=\"M18.56 5.44l.94 2.06.94-2.06 2.06-.94-2.06-.94-.94-2.06-.94 2.06-2.06.94zm-11 1L8.5 8.5l.94-2.06 2.06-.94-2.06-.94L8.5 2.5l-.94 2.06-2.06.94zm10 10l.94 2.06.94-2.06 2.06-.94-2.06-.94-.94-2.06-.94 2.06-2.06.94z\"/><path d=\"M17.41 7.96l-1.37-1.37c-.4-.4-.92-.59-1.43-.59-.52 0-1.04.2-1.43.59L10.3 9.45l-7.72 7.72c-.78.78-.78 2.05 0 2.83L4 21.41c.39.39.9.59 1.41.59.51 0 1.02-.2 1.41-.59l7.78-7.78 2.81-2.81c.8-.78.8-2.07 0-2.86zM5.41 20L4 18.59l7.72-7.72 1.47 1.35L5.41 20z\"/>\n",
              "  </svg>\n",
              "      </button>\n",
              "      \n",
              "  <style>\n",
              "    .colab-df-container {\n",
              "      display:flex;\n",
              "      flex-wrap:wrap;\n",
              "      gap: 12px;\n",
              "    }\n",
              "\n",
              "    .colab-df-convert {\n",
              "      background-color: #E8F0FE;\n",
              "      border: none;\n",
              "      border-radius: 50%;\n",
              "      cursor: pointer;\n",
              "      display: none;\n",
              "      fill: #1967D2;\n",
              "      height: 32px;\n",
              "      padding: 0 0 0 0;\n",
              "      width: 32px;\n",
              "    }\n",
              "\n",
              "    .colab-df-convert:hover {\n",
              "      background-color: #E2EBFA;\n",
              "      box-shadow: 0px 1px 2px rgba(60, 64, 67, 0.3), 0px 1px 3px 1px rgba(60, 64, 67, 0.15);\n",
              "      fill: #174EA6;\n",
              "    }\n",
              "\n",
              "    [theme=dark] .colab-df-convert {\n",
              "      background-color: #3B4455;\n",
              "      fill: #D2E3FC;\n",
              "    }\n",
              "\n",
              "    [theme=dark] .colab-df-convert:hover {\n",
              "      background-color: #434B5C;\n",
              "      box-shadow: 0px 1px 3px 1px rgba(0, 0, 0, 0.15);\n",
              "      filter: drop-shadow(0px 1px 2px rgba(0, 0, 0, 0.3));\n",
              "      fill: #FFFFFF;\n",
              "    }\n",
              "  </style>\n",
              "\n",
              "      <script>\n",
              "        const buttonEl =\n",
              "          document.querySelector('#df-9e9d8c80-be6b-4bc0-89ed-95939da1bb9d button.colab-df-convert');\n",
              "        buttonEl.style.display =\n",
              "          google.colab.kernel.accessAllowed ? 'block' : 'none';\n",
              "\n",
              "        async function convertToInteractive(key) {\n",
              "          const element = document.querySelector('#df-9e9d8c80-be6b-4bc0-89ed-95939da1bb9d');\n",
              "          const dataTable =\n",
              "            await google.colab.kernel.invokeFunction('convertToInteractive',\n",
              "                                                     [key], {});\n",
              "          if (!dataTable) return;\n",
              "\n",
              "          const docLinkHtml = 'Like what you see? Visit the ' +\n",
              "            '<a target=\"_blank\" href=https://colab.research.google.com/notebooks/data_table.ipynb>data table notebook</a>'\n",
              "            + ' to learn more about interactive tables.';\n",
              "          element.innerHTML = '';\n",
              "          dataTable['output_type'] = 'display_data';\n",
              "          await google.colab.output.renderOutput(dataTable, element);\n",
              "          const docLink = document.createElement('div');\n",
              "          docLink.innerHTML = docLinkHtml;\n",
              "          element.appendChild(docLink);\n",
              "        }\n",
              "      </script>\n",
              "    </div>\n",
              "  </div>\n",
              "  "
            ]
          },
          "metadata": {},
          "execution_count": 27
        }
      ]
    },
    {
      "cell_type": "markdown",
      "source": [
        "# Question 10: les titres des films et tv shows dans ma base de donnee:"
      ],
      "metadata": {
        "id": "ehoqUokkJyqO"
      }
    },
    {
      "cell_type": "markdown",
      "source": [
        "ce code retourne les titres de la base donnee des le debut jusqu'a la fin ."
      ],
      "metadata": {
        "id": "D5QrvaIHPRmp"
      }
    },
    {
      "cell_type": "code",
      "source": [
        "db.title"
      ],
      "metadata": {
        "colab": {
          "base_uri": "https://localhost:8080/"
        },
        "id": "nuqilAXqKH1Y",
        "outputId": "42c4563a-bc3a-4eae-9631-55511bdd3c5f"
      },
      "execution_count": 41,
      "outputs": [
        {
          "output_type": "execute_result",
          "data": {
            "text/plain": [
              "0           The Grand Seduction\n",
              "1          Take Care Good Night\n",
              "2          Secrets of Deception\n",
              "3            Pink: Staying True\n",
              "4                 Monster Maker\n",
              "                 ...           \n",
              "9663        Pride Of The Bowery\n",
              "9664              Planet Patrol\n",
              "9665                    Outpost\n",
              "9666    Maradona: Blessed Dream\n",
              "9667                Harry Brown\n",
              "Name: title, Length: 9668, dtype: object"
            ]
          },
          "metadata": {},
          "execution_count": 41
        }
      ]
    },
    {
      "cell_type": "markdown",
      "source": [
        "# Question 10 : l'affichage des directeurs dans la base de donnee "
      ],
      "metadata": {
        "id": "ZljXcas0PbUp"
      }
    },
    {
      "cell_type": "markdown",
      "source": [
        "pour afficher les elements de la base de donnee il suffit de taper le nom du base de donnee utilise dans to code et ajoute \".\" pour l'appel de l'element voulu pour qu'il saffiche "
      ],
      "metadata": {
        "id": "hHwvefuBPv9M"
      }
    },
    {
      "cell_type": "code",
      "source": [
        "db.director"
      ],
      "metadata": {
        "colab": {
          "base_uri": "https://localhost:8080/"
        },
        "id": "tKOGfmUhPb43",
        "outputId": "ddda6864-9c9a-4f06-a219-9750b40811ab"
      },
      "execution_count": 47,
      "outputs": [
        {
          "output_type": "execute_result",
          "data": {
            "text/plain": [
              "0          Don McKellar\n",
              "1          Girish Joshi\n",
              "2           Josh Webber\n",
              "3        Sonia Anderson\n",
              "4          Giles Foster\n",
              "             ...       \n",
              "9663    Joseph H. Lewis\n",
              "9664                NaN\n",
              "9665       Steve Barker\n",
              "9666                NaN\n",
              "9667      Daniel Barber\n",
              "Name: director, Length: 9668, dtype: object"
            ]
          },
          "metadata": {},
          "execution_count": 47
        }
      ]
    }
  ]
}